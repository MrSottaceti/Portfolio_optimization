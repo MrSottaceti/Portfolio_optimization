{
  "nbformat": 4,
  "nbformat_minor": 0,
  "metadata": {
    "colab": {
      "provenance": [],
      "authorship_tag": "ABX9TyPR5YQLG3XQYV63XQfqe33v",
      "include_colab_link": true
    },
    "kernelspec": {
      "name": "python3",
      "display_name": "Python 3"
    },
    "language_info": {
      "name": "python"
    }
  },
  "cells": [
    {
      "cell_type": "markdown",
      "metadata": {
        "id": "view-in-github",
        "colab_type": "text"
      },
      "source": [
        "<a href=\"https://colab.research.google.com/github/MrSottaceti/Portfolio_optimization/blob/main/Batmmaan.ipynb\" target=\"_parent\"><img src=\"https://colab.research.google.com/assets/colab-badge.svg\" alt=\"Open In Colab\"/></a>"
      ]
    },
    {
      "cell_type": "code",
      "execution_count": 3,
      "metadata": {
        "id": "RejBJBlB-TrZ"
      },
      "outputs": [],
      "source": [
        "import yfinance as yf\n",
        "import pandas as pd\n",
        "import numpy as np\n",
        "from fredapi import Fred\n",
        "import cvxpy as cp\n",
        "import matplotlib.pyplot as plt"
      ]
    },
    {
      "cell_type": "markdown",
      "source": [
        "Tramite la libreria yfinance scarichiamo i dati delle 7 azioni che comporranno il portafoglio."
      ],
      "metadata": {
        "id": "9XtucccCWb8w"
      }
    },
    {
      "cell_type": "code",
      "source": [
        "#Impostiamo il vettore tickers dei BATMMAAN\n",
        "tickers = [\"AVGO\", \"AAPL\", \"TSLA\", \"MSFT\", \"META\", \"AMZN\", \"GOOGL\", \"NVDA\"]\n",
        "\n",
        "#Scarichiamo i dati delle azioni con yfinance\n",
        "start_date='2020-01-01'\n",
        "end_date='2025-04-18'\n",
        "data = yf.download(tickers, start=start_date, end=end_date)"
      ],
      "metadata": {
        "colab": {
          "base_uri": "https://localhost:8080/"
        },
        "collapsed": true,
        "id": "1xsXWqAH-WyZ",
        "outputId": "5a1f9adc-1c8a-498a-ac5e-b96f37637004"
      },
      "execution_count": 12,
      "outputs": [
        {
          "output_type": "stream",
          "name": "stderr",
          "text": [
            "[*********************100%***********************]  8 of 8 completed\n"
          ]
        }
      ]
    },
    {
      "cell_type": "markdown",
      "source": [
        "Usiamo i dati scaricati per calcolare i rendimenti percentuali. Su questi, poi, estraiamo la matrice covarianze. Questa esprime varianze e covarianze su base giornaliera quindi la moltiplichiamo per 252.\n",
        "\n",
        "Si rende necessario indicizzare la matrice covarianze con .loc per rispettare l'ordine di inserimento dei ticker (\"BATMMAAN\")"
      ],
      "metadata": {
        "id": "GhS9XdKHWmve"
      }
    },
    {
      "cell_type": "code",
      "source": [
        "#Prendiamo i prezzi di chiusura e li usiamo per calcolare i rendimenti giornalieri in percentuale\n",
        "close_prices = data['Close']\n",
        "returns = close_prices.pct_change().dropna() #Serve .dropna() a quanto pare\n",
        "\n",
        "#se serve, var_returns = returns.var() ma usiamo la matrice covarianze quindi non dovrebbe servire\n",
        "#Calcoliamo la matrice covarianze, .loc[...] serve a indicizzare gli elementi\n",
        "#nell'ordine indicato all'inizio nel vettore tickers. Altrimenti uscirebbe in ordine alfabetico\n",
        "cov_matrix = returns.cov()*252\n",
        "cov_matrix = cov_matrix.loc[tickers, tickers] #print(cov_matrix)\n",
        "\n",
        "#print(cov_matrix)"
      ],
      "metadata": {
        "colab": {
          "base_uri": "https://localhost:8080/"
        },
        "collapsed": true,
        "id": "3PnE3k19VXH_",
        "outputId": "752f4917-2370-428f-ae38-fcd17ba7250f"
      },
      "execution_count": 31,
      "outputs": [
        {
          "output_type": "stream",
          "name": "stdout",
          "text": [
            "Ticker      AVGO      AAPL      TSLA      MSFT      META      AMZN     GOOGL  \\\n",
            "Ticker                                                                         \n",
            "AVGO    0.193544  0.080424  0.139061  0.081096  0.094848  0.080888  0.077543   \n",
            "AAPL    0.080424  0.107581  0.112095  0.074368  0.084582  0.071735  0.069749   \n",
            "TSLA    0.139061  0.112095  0.465680  0.096720  0.110484  0.113061  0.095571   \n",
            "MSFT    0.081096  0.074368  0.096720  0.093738  0.086268  0.076209  0.074498   \n",
            "META    0.094848  0.084582  0.110484  0.086268  0.203240  0.102515  0.095537   \n",
            "AMZN    0.080888  0.071735  0.113061  0.076209  0.102515  0.131757  0.078464   \n",
            "GOOGL   0.077543  0.069749  0.095571  0.074498  0.095537  0.078464  0.107818   \n",
            "NVDA    0.165714  0.108243  0.181635  0.116007  0.135863  0.118408  0.108757   \n",
            "\n",
            "Ticker      NVDA  \n",
            "Ticker            \n",
            "AVGO    0.165714  \n",
            "AAPL    0.108243  \n",
            "TSLA    0.181635  \n",
            "MSFT    0.116007  \n",
            "META    0.135863  \n",
            "AMZN    0.118408  \n",
            "GOOGL   0.108757  \n",
            "NVDA    0.305619  \n"
          ]
        }
      ]
    },
    {
      "cell_type": "markdown",
      "source": [
        "Per questa analisi diamo per buono il CAPM (anche se non lo è). Quindi ci andiamo a calcolare il beta e otteniamo il rendimento risk free."
      ],
      "metadata": {
        "id": "CrTWTXNCX-F0"
      }
    },
    {
      "cell_type": "code",
      "source": [
        "#Prima di iniziare con l'ottimizzazione dobbiamo prima stimare i rendimenti attesi.\n",
        "#Utilizziamo il CAPM. Per prima cosa ci serve anche il VETTORE BETA (covarianza tra titolo e mercato(SP500) su varianza del mercato)\n",
        "\n",
        "ticker_mkt = \"^GSPC\" #ticker dell's&p 500\n",
        "sp500_data = yf.download(ticker_mkt, start=start_date, end=end_date)\n",
        "sp500_close = sp500_data['Close']\n",
        "returns_mkt = sp500_close.pct_change().dropna()\n",
        "\n",
        "returns = close_prices.resample('ME').last().pct_change().dropna()\n",
        "returns_mkt = sp500_close.resample('ME').last().pct_change().dropna()\n",
        "\n",
        "#PER OTTENERE UN ARRAY DEI  BETA PRIMA CREIAMO IL DIZIONARIO betas_dict e poi lo trasformiamo in ARRAY\n",
        "betas_dict = {}\n",
        "for ticker in tickers:  #Estrai i rendimenti dell'azione e del mercato\n",
        "    y = returns[ticker]  # Rendimenti dell'azione\n",
        "    X = returns_mkt  # Rendimenti del mercato (S&P 500)\n",
        "    df = pd.concat([y, X], axis=1).dropna() #Ricalcola y e X senza NaN\n",
        "    y = df.iloc[:, 0]\n",
        "    X = df.iloc[:, 1]\n",
        "    #Calcola beta\n",
        "    beta = np.cov(y, X)[0, 1] / np.var(X, ddof=1)  # Cov. tra azione e mercato normalizzata (NB!!) per la var. CAMPIONARIA (DDOF=1) del mercato\n",
        "    betas_dict[ticker] = beta\n",
        "\n",
        "#se hai bisogno di stampare i beta elencati per ciascuna azione, utilizza:\n",
        "for ticker, beta in betas_dict.items():\n",
        "   print(f\"Beta di {ticker}: {beta:.4f}\")\n",
        "\n",
        "betas = np.array(list(betas_dict.values())).reshape(-1, 1)  # (8x1)\n",
        "#print(betas) #se vuoi vedere l'array dei beta."
      ],
      "metadata": {
        "colab": {
          "base_uri": "https://localhost:8080/"
        },
        "id": "TW1K6nKnVmVA",
        "outputId": "de9ecdc8-f7e8-4b1f-8f9f-5928bc5af8a8"
      },
      "execution_count": 23,
      "outputs": [
        {
          "output_type": "stream",
          "name": "stderr",
          "text": [
            "\r[*********************100%***********************]  1 of 1 completed\n"
          ]
        },
        {
          "output_type": "stream",
          "name": "stdout",
          "text": [
            "Beta di AVGO: 1.0532\n",
            "Beta di AAPL: 1.2297\n",
            "Beta di TSLA: 2.3623\n",
            "Beta di MSFT: 0.8922\n",
            "Beta di META: 1.2640\n",
            "Beta di AMZN: 1.1942\n",
            "Beta di GOOGL: 1.0132\n",
            "Beta di NVDA: 1.6408\n"
          ]
        }
      ]
    },
    {
      "cell_type": "markdown",
      "source": [
        "In alternativa il vettore BETA 5Y mensile possiamo ottenerlo così:"
      ],
      "metadata": {
        "id": "y65L-tGqaaTF"
      }
    },
    {
      "cell_type": "code",
      "source": [
        "beta_data = yf.download(tickers + [ticker_mkt], period=\"5y\", interval=\"1mo\")[\"Close\"]\n",
        "#head(beta_data)\n",
        "\n",
        "#Rendimenti mensili\n",
        "returns_2 = beta_data.pct_change().dropna()\n",
        "\n",
        "stock_returns = returns_2[tickers]\n",
        "market_returns = returns_2[ticker_mkt]\n",
        "\n",
        "betas_2 = {}\n",
        "for ticker in tickers:\n",
        "    covariance = stock_returns[ticker].cov(market_returns)\n",
        "    market_variance = market_returns.var()\n",
        "    betas_2[ticker] = covariance / market_variance\n",
        "\n",
        "# Stampa risultati\n",
        "print(\"Beta dei titoli (5Y, mensile):\")\n",
        "print(pd.Series(betas_2).round(2))"
      ],
      "metadata": {
        "colab": {
          "base_uri": "https://localhost:8080/"
        },
        "id": "3EWpeO8xaov1",
        "outputId": "8bb9aba9-28b1-4186-cd20-25be719b35a5"
      },
      "execution_count": 27,
      "outputs": [
        {
          "output_type": "stream",
          "name": "stderr",
          "text": [
            "[*********************100%***********************]  9 of 9 completed"
          ]
        },
        {
          "output_type": "stream",
          "name": "stdout",
          "text": [
            "Beta dei titoli (5Y, mensile):\n",
            "AVGO     1.06\n",
            "AAPL     1.29\n",
            "TSLA     2.43\n",
            "MSFT     0.98\n",
            "META     1.26\n",
            "AMZN     1.33\n",
            "GOOGL    0.99\n",
            "NVDA     2.07\n",
            "dtype: float64\n"
          ]
        },
        {
          "output_type": "stream",
          "name": "stderr",
          "text": [
            "\n"
          ]
        }
      ]
    },
    {
      "cell_type": "markdown",
      "source": [
        "Ma andiamo avanti. Ci serve il tasso risk free e lo otteniamo con fredapi.\n",
        "\n",
        "Per comodità lascio la mia key a disposizione ma è buona cosa usarne una propria."
      ],
      "metadata": {
        "id": "mqZce4bOdFu-"
      }
    },
    {
      "cell_type": "code",
      "source": [
        "#usiamo l'api della Fred (from fredapi import Fred) per avere il tasso a 10 anni Treasury\n",
        "#inseriamo l'API Key FRED\n",
        "fred = Fred(api_key=\"f0ee647a3e3b4016c1fdf3530dfb8047\")\n",
        "tbill_10y_series = fred.get_series(\"DGS10\")\n",
        "\n",
        "#otteniamo l'ultimo valore disponibile del tasso treasury a 10 anni (lo useremo come risk free rate)\n",
        "t_10 = tbill_10y_series.iloc[-1] / 100  #con .iloc[-1] otteniamo l'ultimo valore disponibile e con \"/100\" lo convertiamo da percentuale a decimale\n",
        "rf = t_10\n",
        "print(f\"Tasso Treasury 10Y: {tbill_10y:.4%}\")"
      ],
      "metadata": {
        "colab": {
          "base_uri": "https://localhost:8080/"
        },
        "id": "mXYKXwl1Vsph",
        "outputId": "c2e799e3-3d09-451c-9586-9345bec69484"
      },
      "execution_count": 29,
      "outputs": [
        {
          "output_type": "stream",
          "name": "stdout",
          "text": [
            "Tasso Treasury 10Y: 4.3400%\n"
          ]
        }
      ]
    },
    {
      "cell_type": "markdown",
      "source": [
        "Ora riempiamo un vettore di risk free rate ottenuto. Questo vettore ci serve per ottenere gli expected returns dei singoli titoli tramite modello capm.\n",
        "\\begin{equation}\n",
        "\\underbrace{\n",
        "\\begin{bmatrix}\n",
        "E[r_1] \\\\\n",
        "E[r_2] \\\\\n",
        "\\vdots \\\\\n",
        "E[r_n]\n",
        "\\end{bmatrix}\n",
        "}_{\\mathbf{E}[r]}\n",
        "=\n",
        "\\underbrace{\n",
        "\\begin{bmatrix}\n",
        "r_{f,1} \\\\\n",
        "r_{f,2} \\\\\n",
        "\\vdots \\\\\n",
        "r_{f,n}\n",
        "\\end{bmatrix}\n",
        "}_{\\mathbf{r_f}}\n",
        "+\n",
        "\\underbrace{\n",
        "\\begin{bmatrix}\n",
        "\\beta_1 \\\\\n",
        "\\beta_2 \\\\\n",
        "\\vdots \\\\\n",
        "\\beta_n\n",
        "\\end{bmatrix}\n",
        "}_{\\boldsymbol{\\beta}}\n",
        "\\cdot\n",
        "\\underbrace{\n",
        "\\left(E[r_m] - r_f\\right)\n",
        "}_{\\mathrm{ERP}}\n",
        "\\end{equation}"
      ],
      "metadata": {
        "id": "HqdUeEIadS_d"
      }
    },
    {
      "cell_type": "code",
      "source": [
        "num_assets = len(tickers)  # Conta quanti sono gli asset\n",
        "rf_vett = np.full((num_assets, 1), rf) #Crea il vettore con il tasso risk-free ripetuto N volte\n",
        "\n",
        "expected_return_sp500 = 0.1 #ATTENZIONE dato esogeno: GOLDMAN SACHS stima +10% nel 2025\n",
        "eq_risk_pr = expected_return_sp500 - rf\n",
        "\n",
        "expected_return_batmmaan_capm = rf_vett + betas * eq_risk_pr\n",
        "#print(expected_return_batmmaan_capm)\n",
        "\n",
        "#Appiattiamo (collassiamo) il vettore dei rendimenti attesi in un array 1D\n",
        "expected_return = expected_return_batmmaan_capm.flatten()"
      ],
      "metadata": {
        "id": "v-raox6-VxOR"
      },
      "execution_count": null,
      "outputs": []
    },
    {
      "cell_type": "markdown",
      "source": [
        "Definiamo portfolio_return e portfolio_variance. Introduciamo i primi constraints fondamentali e aggiungiamo il vincolo di un certo return (qui 12%) e upper e lower bound.\n",
        "\\begin{equation}\n",
        "\\sigma_p^2 =\n",
        "\\begin{bmatrix}\n",
        "w_1 & w_2 & \\cdots & w_n\n",
        "\\end{bmatrix}\n",
        "\\begin{bmatrix}\n",
        "\\sigma_{11} & \\sigma_{12} & \\cdots & \\sigma_{1n} \\\\\n",
        "\\sigma_{21} & \\sigma_{22} & \\cdots & \\sigma_{2n} \\\\\n",
        "\\vdots & \\vdots & \\ddots & \\vdots \\\\\n",
        "\\sigma_{n1} & \\sigma_{n2} & \\cdots & \\sigma_{nn}\n",
        "\\end{bmatrix}\n",
        "\\begin{bmatrix}\n",
        "w_1 \\\\\n",
        "w_2 \\\\\n",
        "\\vdots \\\\\n",
        "w_n\n",
        "\\end{bmatrix}\n",
        "\\end{equation}\n",
        "\n",
        "constraints.append(...) aggiunge i vincoli all'ottimizzatore\n",
        "\n"
      ],
      "metadata": {
        "id": "ySuTWbGNefFK"
      }
    },
    {
      "cell_type": "code",
      "source": [
        "#creiamo vettore pesi w, per lanciare ottimizzazione. len() conta numero asset che corrisponderà alla dimensione del vettore\n",
        "num_assets = len(expected_return)\n",
        "w = cp.Variable(num_assets)\n",
        "\n",
        "portfolio_return = expected_return @ w  #Calcoliamo il rendimento atteso del portafoglio\n",
        "\n",
        "# Calcoliamo la varianza del portafoglio usando la matrice di covarianza\n",
        "# Convertiamo la matrice di covarianza in array numpy se necessario\n",
        "cov_array = cov_matrix.values\n",
        "portfolio_variance = cp.quad_form(w, cov_array) #w'*sigma*w\n",
        "\n",
        "#Definiamo il vettore dei constraints con i vincoli \"base\" (NO SHORT; 100% CAP. INVEST.)\n",
        "constraints = [\n",
        "    cp.sum(w) == 1,\n",
        "    w >= 0\n",
        "]\n",
        "#A questo vettore possiamo aggiungere tutti i constraints che vogliamo (con .append)\n",
        "target_return = 0.12  # ad esempio, il 12%\n",
        "constraints.append(portfolio_return >= target_return) #>= oppure ==\n",
        "\n",
        "#aggiungiamo anche un vincolo di peso massimo e minimo\n",
        "lower_bound = 0.05\n",
        "upper_bound = 0.30\n",
        "constraints.append(w >= lower_bound)\n",
        "constraints.append(w <= upper_bound)"
      ],
      "metadata": {
        "id": "WrSBGIwyV_gi"
      },
      "execution_count": null,
      "outputs": []
    },
    {
      "cell_type": "markdown",
      "source": [
        "L'ottimizzatore MINIMIZZA la varianza dati i constraints. NB: l'oggetto portfolio_variance contiene il vettore w, sul quale l'ottimizzatore interviene.\n",
        "problem.solve()"
      ],
      "metadata": {
        "id": "eo_MU7Mljchf"
      }
    },
    {
      "cell_type": "code",
      "source": [
        "# Definiamo il problema: minimizzazione della varianza\n",
        "problem = cp.Problem(cp.Minimize(portfolio_variance), constraints)\n",
        "problem.solve() #risolviamo il problema\n",
        "\n",
        "optimal_weights = w.value #Estraiamo i pesi ottimali"
      ],
      "metadata": {
        "id": "j3aKgwjmWALY"
      },
      "execution_count": null,
      "outputs": []
    },
    {
      "cell_type": "markdown",
      "source": [
        "Così sintetizziamo l'output dell'ottimizzatore."
      ],
      "metadata": {
        "id": "XDLvzdsokUgE"
      }
    },
    {
      "cell_type": "code",
      "source": [
        "print(\"Pesi ottimali:\", optimal_weights)\n",
        "print(\"Rendimento atteso del portafoglio:\", portfolio_return.value)\n",
        "print(\"Standard dev del portafoglio:\", np.sqrt(portfolio_variance.value)*100)\n",
        "\n",
        "optimal_weights_percent = np.round(optimal_weights * 100, 2)\n",
        "print(optimal_weights_percent)\n",
        "\n",
        "ticker_weights = dict(zip(tickers, optimal_weights_percent))\n",
        "\n",
        "for ticker, weight in ticker_weights.items():\n",
        "    print(f\"{ticker}: {weight:.2f}%\")  #così stampi i pesi ottimali in lista\n"
      ],
      "metadata": {
        "id": "mSMvg_gEWCLL"
      },
      "execution_count": null,
      "outputs": []
    },
    {
      "cell_type": "code",
      "source": [
        "#PER LA CLASSICA PIE CHART:\n",
        "#imposto i colori della torta (nvidia verde, meta azzurra, etc....)\n",
        "colors = ['#CC092F', '#A2AAAD', '#e82127', '#00A4EF', '#0080FB', '#ff9900', '#F4B400', '#76b900']\n",
        "\n",
        "plt.figure(figsize=(8, 8))\n",
        "plt.pie(optimal_weights_percent, labels=[\"Broadcom\", \"Apple\", \"Tesla\", \"Microsoft\", \"Meta\", \"Amazon\", \"Alphabet\", \"Nvidia\"], autopct='%1.1f%%', startangle=140, colors=colors, counterclock=False)\n",
        "plt.title(\"BATMMAAN OPTIMIZED ALLOCATION\")\n",
        "plt.show()"
      ],
      "metadata": {
        "id": "4PArtaJNWKHQ"
      },
      "execution_count": null,
      "outputs": []
    }
  ]
}
